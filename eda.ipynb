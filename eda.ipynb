{
 "cells": [
  {
   "cell_type": "code",
   "execution_count": 48,
   "metadata": {},
   "outputs": [],
   "source": [
    "import numpy as np\n",
    "import pandas as pd\n",
    "import matplotlib.pyplot as plt\n",
    "import seaborn as sns\n",
    "import plotly as py\n",
    "import plotly.express as px\n",
    "from sklearn.decomposition import PCA\n",
    "from sklearn.preprocessing import StandardScaler\n",
    "from matplotlib import cycler\n",
    "colors = cycler('color',\n",
    "                ['#EE6666', '#3388BB', '#9988DD',\n",
    "                 '#EECC55', '#88BB44', '#FFBBBB'])\n",
    "plt.rc('axes', facecolor='#E6E6E6', edgecolor='none',\n",
    "       axisbelow=True, grid=True, prop_cycle=colors)\n",
    "plt.rc('grid', color='w', linestyle='solid')\n",
    "plt.rc('xtick', direction='out', color='gray')\n",
    "plt.rc('axes.titlecolor:gray')\n",
    "plt.rc('ytick', direction='out', color='gray')\n",
    "plt.rc('patch', edgecolor='#E6E6E6')\n",
    "plt.rc('lines', linewidth=2)"
   ]
  },
  {
   "cell_type": "code",
   "execution_count": 34,
   "metadata": {},
   "outputs": [],
   "source": [
    "datafile = pd.read_csv('heart_failure_clinical_records_dataset.csv')"
   ]
  },
  {
   "cell_type": "code",
   "execution_count": 35,
   "metadata": {},
   "outputs": [
    {
     "data": {
      "text/html": [
       "<div>\n",
       "<style scoped>\n",
       "    .dataframe tbody tr th:only-of-type {\n",
       "        vertical-align: middle;\n",
       "    }\n",
       "\n",
       "    .dataframe tbody tr th {\n",
       "        vertical-align: top;\n",
       "    }\n",
       "\n",
       "    .dataframe thead th {\n",
       "        text-align: right;\n",
       "    }\n",
       "</style>\n",
       "<table border=\"1\" class=\"dataframe\">\n",
       "  <thead>\n",
       "    <tr style=\"text-align: right;\">\n",
       "      <th></th>\n",
       "      <th>age</th>\n",
       "      <th>anaemia</th>\n",
       "      <th>creatinine_phosphokinase</th>\n",
       "      <th>diabetes</th>\n",
       "      <th>ejection_fraction</th>\n",
       "      <th>high_blood_pressure</th>\n",
       "      <th>platelets</th>\n",
       "      <th>serum_creatinine</th>\n",
       "      <th>serum_sodium</th>\n",
       "      <th>sex</th>\n",
       "      <th>smoking</th>\n",
       "      <th>time</th>\n",
       "      <th>DEATH_EVENT</th>\n",
       "    </tr>\n",
       "  </thead>\n",
       "  <tbody>\n",
       "    <tr>\n",
       "      <th>0</th>\n",
       "      <td>75.0</td>\n",
       "      <td>0</td>\n",
       "      <td>582</td>\n",
       "      <td>0</td>\n",
       "      <td>20</td>\n",
       "      <td>1</td>\n",
       "      <td>265000.00</td>\n",
       "      <td>1.9</td>\n",
       "      <td>130</td>\n",
       "      <td>1</td>\n",
       "      <td>0</td>\n",
       "      <td>4</td>\n",
       "      <td>1</td>\n",
       "    </tr>\n",
       "    <tr>\n",
       "      <th>1</th>\n",
       "      <td>55.0</td>\n",
       "      <td>0</td>\n",
       "      <td>7861</td>\n",
       "      <td>0</td>\n",
       "      <td>38</td>\n",
       "      <td>0</td>\n",
       "      <td>263358.03</td>\n",
       "      <td>1.1</td>\n",
       "      <td>136</td>\n",
       "      <td>1</td>\n",
       "      <td>0</td>\n",
       "      <td>6</td>\n",
       "      <td>1</td>\n",
       "    </tr>\n",
       "    <tr>\n",
       "      <th>2</th>\n",
       "      <td>65.0</td>\n",
       "      <td>0</td>\n",
       "      <td>146</td>\n",
       "      <td>0</td>\n",
       "      <td>20</td>\n",
       "      <td>0</td>\n",
       "      <td>162000.00</td>\n",
       "      <td>1.3</td>\n",
       "      <td>129</td>\n",
       "      <td>1</td>\n",
       "      <td>1</td>\n",
       "      <td>7</td>\n",
       "      <td>1</td>\n",
       "    </tr>\n",
       "    <tr>\n",
       "      <th>3</th>\n",
       "      <td>50.0</td>\n",
       "      <td>1</td>\n",
       "      <td>111</td>\n",
       "      <td>0</td>\n",
       "      <td>20</td>\n",
       "      <td>0</td>\n",
       "      <td>210000.00</td>\n",
       "      <td>1.9</td>\n",
       "      <td>137</td>\n",
       "      <td>1</td>\n",
       "      <td>0</td>\n",
       "      <td>7</td>\n",
       "      <td>1</td>\n",
       "    </tr>\n",
       "    <tr>\n",
       "      <th>4</th>\n",
       "      <td>65.0</td>\n",
       "      <td>1</td>\n",
       "      <td>160</td>\n",
       "      <td>1</td>\n",
       "      <td>20</td>\n",
       "      <td>0</td>\n",
       "      <td>327000.00</td>\n",
       "      <td>2.7</td>\n",
       "      <td>116</td>\n",
       "      <td>0</td>\n",
       "      <td>0</td>\n",
       "      <td>8</td>\n",
       "      <td>1</td>\n",
       "    </tr>\n",
       "  </tbody>\n",
       "</table>\n",
       "</div>"
      ],
      "text/plain": [
       "    age  anaemia  creatinine_phosphokinase  diabetes  ejection_fraction  \\\n",
       "0  75.0        0                       582         0                 20   \n",
       "1  55.0        0                      7861         0                 38   \n",
       "2  65.0        0                       146         0                 20   \n",
       "3  50.0        1                       111         0                 20   \n",
       "4  65.0        1                       160         1                 20   \n",
       "\n",
       "   high_blood_pressure  platelets  serum_creatinine  serum_sodium  sex  \\\n",
       "0                    1  265000.00               1.9           130    1   \n",
       "1                    0  263358.03               1.1           136    1   \n",
       "2                    0  162000.00               1.3           129    1   \n",
       "3                    0  210000.00               1.9           137    1   \n",
       "4                    0  327000.00               2.7           116    0   \n",
       "\n",
       "   smoking  time  DEATH_EVENT  \n",
       "0        0     4            1  \n",
       "1        0     6            1  \n",
       "2        1     7            1  \n",
       "3        0     7            1  \n",
       "4        0     8            1  "
      ]
     },
     "execution_count": 35,
     "metadata": {},
     "output_type": "execute_result"
    }
   ],
   "source": [
    "datafile.head()"
   ]
  },
  {
   "cell_type": "code",
   "execution_count": 36,
   "metadata": {},
   "outputs": [
    {
     "data": {
      "text/plain": [
       "age                         False\n",
       "anaemia                     False\n",
       "creatinine_phosphokinase    False\n",
       "diabetes                    False\n",
       "ejection_fraction           False\n",
       "high_blood_pressure         False\n",
       "platelets                   False\n",
       "serum_creatinine            False\n",
       "serum_sodium                False\n",
       "sex                         False\n",
       "smoking                     False\n",
       "time                        False\n",
       "DEATH_EVENT                 False\n",
       "dtype: bool"
      ]
     },
     "execution_count": 36,
     "metadata": {},
     "output_type": "execute_result"
    }
   ],
   "source": [
    "datafile.isna().any()"
   ]
  },
  {
   "cell_type": "code",
   "execution_count": 37,
   "metadata": {},
   "outputs": [
    {
     "data": {
      "text/html": [
       "<div>\n",
       "<style scoped>\n",
       "    .dataframe tbody tr th:only-of-type {\n",
       "        vertical-align: middle;\n",
       "    }\n",
       "\n",
       "    .dataframe tbody tr th {\n",
       "        vertical-align: top;\n",
       "    }\n",
       "\n",
       "    .dataframe thead th {\n",
       "        text-align: right;\n",
       "    }\n",
       "</style>\n",
       "<table border=\"1\" class=\"dataframe\">\n",
       "  <thead>\n",
       "    <tr style=\"text-align: right;\">\n",
       "      <th></th>\n",
       "      <th>age</th>\n",
       "      <th>anaemia</th>\n",
       "      <th>creatinine_phosphokinase</th>\n",
       "      <th>diabetes</th>\n",
       "      <th>ejection_fraction</th>\n",
       "      <th>high_blood_pressure</th>\n",
       "      <th>platelets</th>\n",
       "      <th>serum_creatinine</th>\n",
       "      <th>serum_sodium</th>\n",
       "      <th>sex</th>\n",
       "      <th>smoking</th>\n",
       "      <th>time</th>\n",
       "      <th>DEATH_EVENT</th>\n",
       "    </tr>\n",
       "  </thead>\n",
       "  <tbody>\n",
       "    <tr>\n",
       "      <th>count</th>\n",
       "      <td>299.000000</td>\n",
       "      <td>299.000000</td>\n",
       "      <td>299.000000</td>\n",
       "      <td>299.000000</td>\n",
       "      <td>299.000000</td>\n",
       "      <td>299.000000</td>\n",
       "      <td>299.000000</td>\n",
       "      <td>299.00000</td>\n",
       "      <td>299.000000</td>\n",
       "      <td>299.000000</td>\n",
       "      <td>299.00000</td>\n",
       "      <td>299.000000</td>\n",
       "      <td>299.00000</td>\n",
       "    </tr>\n",
       "    <tr>\n",
       "      <th>mean</th>\n",
       "      <td>60.833893</td>\n",
       "      <td>0.431438</td>\n",
       "      <td>581.839465</td>\n",
       "      <td>0.418060</td>\n",
       "      <td>38.083612</td>\n",
       "      <td>0.351171</td>\n",
       "      <td>263358.029264</td>\n",
       "      <td>1.39388</td>\n",
       "      <td>136.625418</td>\n",
       "      <td>0.648829</td>\n",
       "      <td>0.32107</td>\n",
       "      <td>130.260870</td>\n",
       "      <td>0.32107</td>\n",
       "    </tr>\n",
       "    <tr>\n",
       "      <th>std</th>\n",
       "      <td>11.894809</td>\n",
       "      <td>0.496107</td>\n",
       "      <td>970.287881</td>\n",
       "      <td>0.494067</td>\n",
       "      <td>11.834841</td>\n",
       "      <td>0.478136</td>\n",
       "      <td>97804.236869</td>\n",
       "      <td>1.03451</td>\n",
       "      <td>4.412477</td>\n",
       "      <td>0.478136</td>\n",
       "      <td>0.46767</td>\n",
       "      <td>77.614208</td>\n",
       "      <td>0.46767</td>\n",
       "    </tr>\n",
       "    <tr>\n",
       "      <th>min</th>\n",
       "      <td>40.000000</td>\n",
       "      <td>0.000000</td>\n",
       "      <td>23.000000</td>\n",
       "      <td>0.000000</td>\n",
       "      <td>14.000000</td>\n",
       "      <td>0.000000</td>\n",
       "      <td>25100.000000</td>\n",
       "      <td>0.50000</td>\n",
       "      <td>113.000000</td>\n",
       "      <td>0.000000</td>\n",
       "      <td>0.00000</td>\n",
       "      <td>4.000000</td>\n",
       "      <td>0.00000</td>\n",
       "    </tr>\n",
       "    <tr>\n",
       "      <th>25%</th>\n",
       "      <td>51.000000</td>\n",
       "      <td>0.000000</td>\n",
       "      <td>116.500000</td>\n",
       "      <td>0.000000</td>\n",
       "      <td>30.000000</td>\n",
       "      <td>0.000000</td>\n",
       "      <td>212500.000000</td>\n",
       "      <td>0.90000</td>\n",
       "      <td>134.000000</td>\n",
       "      <td>0.000000</td>\n",
       "      <td>0.00000</td>\n",
       "      <td>73.000000</td>\n",
       "      <td>0.00000</td>\n",
       "    </tr>\n",
       "    <tr>\n",
       "      <th>50%</th>\n",
       "      <td>60.000000</td>\n",
       "      <td>0.000000</td>\n",
       "      <td>250.000000</td>\n",
       "      <td>0.000000</td>\n",
       "      <td>38.000000</td>\n",
       "      <td>0.000000</td>\n",
       "      <td>262000.000000</td>\n",
       "      <td>1.10000</td>\n",
       "      <td>137.000000</td>\n",
       "      <td>1.000000</td>\n",
       "      <td>0.00000</td>\n",
       "      <td>115.000000</td>\n",
       "      <td>0.00000</td>\n",
       "    </tr>\n",
       "    <tr>\n",
       "      <th>75%</th>\n",
       "      <td>70.000000</td>\n",
       "      <td>1.000000</td>\n",
       "      <td>582.000000</td>\n",
       "      <td>1.000000</td>\n",
       "      <td>45.000000</td>\n",
       "      <td>1.000000</td>\n",
       "      <td>303500.000000</td>\n",
       "      <td>1.40000</td>\n",
       "      <td>140.000000</td>\n",
       "      <td>1.000000</td>\n",
       "      <td>1.00000</td>\n",
       "      <td>203.000000</td>\n",
       "      <td>1.00000</td>\n",
       "    </tr>\n",
       "    <tr>\n",
       "      <th>max</th>\n",
       "      <td>95.000000</td>\n",
       "      <td>1.000000</td>\n",
       "      <td>7861.000000</td>\n",
       "      <td>1.000000</td>\n",
       "      <td>80.000000</td>\n",
       "      <td>1.000000</td>\n",
       "      <td>850000.000000</td>\n",
       "      <td>9.40000</td>\n",
       "      <td>148.000000</td>\n",
       "      <td>1.000000</td>\n",
       "      <td>1.00000</td>\n",
       "      <td>285.000000</td>\n",
       "      <td>1.00000</td>\n",
       "    </tr>\n",
       "  </tbody>\n",
       "</table>\n",
       "</div>"
      ],
      "text/plain": [
       "              age     anaemia  creatinine_phosphokinase    diabetes  \\\n",
       "count  299.000000  299.000000                299.000000  299.000000   \n",
       "mean    60.833893    0.431438                581.839465    0.418060   \n",
       "std     11.894809    0.496107                970.287881    0.494067   \n",
       "min     40.000000    0.000000                 23.000000    0.000000   \n",
       "25%     51.000000    0.000000                116.500000    0.000000   \n",
       "50%     60.000000    0.000000                250.000000    0.000000   \n",
       "75%     70.000000    1.000000                582.000000    1.000000   \n",
       "max     95.000000    1.000000               7861.000000    1.000000   \n",
       "\n",
       "       ejection_fraction  high_blood_pressure      platelets  \\\n",
       "count         299.000000           299.000000     299.000000   \n",
       "mean           38.083612             0.351171  263358.029264   \n",
       "std            11.834841             0.478136   97804.236869   \n",
       "min            14.000000             0.000000   25100.000000   \n",
       "25%            30.000000             0.000000  212500.000000   \n",
       "50%            38.000000             0.000000  262000.000000   \n",
       "75%            45.000000             1.000000  303500.000000   \n",
       "max            80.000000             1.000000  850000.000000   \n",
       "\n",
       "       serum_creatinine  serum_sodium         sex    smoking        time  \\\n",
       "count         299.00000    299.000000  299.000000  299.00000  299.000000   \n",
       "mean            1.39388    136.625418    0.648829    0.32107  130.260870   \n",
       "std             1.03451      4.412477    0.478136    0.46767   77.614208   \n",
       "min             0.50000    113.000000    0.000000    0.00000    4.000000   \n",
       "25%             0.90000    134.000000    0.000000    0.00000   73.000000   \n",
       "50%             1.10000    137.000000    1.000000    0.00000  115.000000   \n",
       "75%             1.40000    140.000000    1.000000    1.00000  203.000000   \n",
       "max             9.40000    148.000000    1.000000    1.00000  285.000000   \n",
       "\n",
       "       DEATH_EVENT  \n",
       "count    299.00000  \n",
       "mean       0.32107  \n",
       "std        0.46767  \n",
       "min        0.00000  \n",
       "25%        0.00000  \n",
       "50%        0.00000  \n",
       "75%        1.00000  \n",
       "max        1.00000  "
      ]
     },
     "execution_count": 37,
     "metadata": {},
     "output_type": "execute_result"
    }
   ],
   "source": [
    "datafile.describe()"
   ]
  },
  {
   "cell_type": "code",
   "execution_count": 38,
   "metadata": {
    "scrolled": false
   },
   "outputs": [
    {
     "data": {
      "image/png": "[encoded data removed]",
      "text/plain": [
       "<Figure size 432x288 with 1 Axes>"
      ]
     },
     "metadata": {
      "needs_background": "dark"
     },
     "output_type": "display_data"
    },
    {
     "data": {
      "image/png": "[encoded data removed]",
      "text/plain": [
       "<Figure size 432x288 with 1 Axes>"
      ]
     },
     "metadata": {
      "needs_background": "dark"
     },
     "output_type": "display_data"
    },
    {
     "data": {
      "image/png": "[encoded data removed]",
      "text/plain": [
       "<Figure size 432x288 with 1 Axes>"
      ]
     },
     "metadata": {
      "needs_background": "dark"
     },
     "output_type": "display_data"
    },
    {
     "data": {
      "image/png": "[encoded data removed]",
      "text/plain": [
       "<Figure size 432x288 with 1 Axes>"
      ]
     },
     "metadata": {
      "needs_background": "dark"
     },
     "output_type": "display_data"
    },
    {
     "data": {
      "image/png": "[encoded data removed]",
      "text/plain": [
       "<Figure size 432x288 with 1 Axes>"
      ]
     },
     "metadata": {
      "needs_background": "dark"
     },
     "output_type": "display_data"
    },
    {
     "data": {
      "image/png": "[encoded data removed]",
      "text/plain": [
       "<Figure size 432x288 with 1 Axes>"
      ]
     },
     "metadata": {
      "needs_background": "dark"
     },
     "output_type": "display_data"
    },
    {
     "data": {
      "image/png": "[encoded data removed]",
      "text/plain": [
       "<Figure size 432x288 with 1 Axes>"
      ]
     },
     "metadata": {
      "needs_background": "dark"
     },
     "output_type": "display_data"
    },
    {
     "data": {
      "image/png": "[encoded data removed]",
      "text/plain": [
       "<Figure size 432x288 with 1 Axes>"
      ]
     },
     "metadata": {
      "needs_background": "dark"
     },
     "output_type": "display_data"
    },
    {
     "data": {
      "image/png": "[encoded data removed]",
      "text/plain": [
       "<Figure size 432x288 with 1 Axes>"
      ]
     },
     "metadata": {
      "needs_background": "dark"
     },
     "output_type": "display_data"
    },
    {
     "data": {
      "image/png": "[encoded data removed]",
      "text/plain": [
       "<Figure size 432x288 with 1 Axes>"
      ]
     },
     "metadata": {
      "needs_background": "dark"
     },
     "output_type": "display_data"
    },
    {
     "data": {
      "image/png": "[encoded data removed]",
      "text/plain": [
       "<Figure size 432x288 with 1 Axes>"
      ]
     },
     "metadata": {
      "needs_background": "dark"
     },
     "output_type": "display_data"
    },
    {
     "data": {
      "image/png": "[encoded data removed]",
      "text/plain": [
       "<Figure size 432x288 with 1 Axes>"
      ]
     },
     "metadata": {
      "needs_background": "dark"
     },
     "output_type": "display_data"
    },
    {
     "data": {
      "image/png": "[encoded data removed]",
      "text/plain": [
       "<Figure size 432x288 with 1 Axes>"
      ]
     },
     "metadata": {
      "needs_background": "dark"
     },
     "output_type": "display_data"
    }
   ],
   "source": [
    "for col in datafile.columns:\n",
    "    sns.distplot(datafile[col])\n",
    "    plt.show()"
   ]
  },
  {
   "cell_type": "code",
   "execution_count": 39,
   "metadata": {},
   "outputs": [
    {
     "data": {
      "text/plain": [
       "(array([0, 1]), array([203,  96]))"
      ]
     },
     "execution_count": 39,
     "metadata": {},
     "output_type": "execute_result"
    }
   ],
   "source": [
    "np.unique(datafile.DEATH_EVENT, return_counts=True)"
   ]
  },
  {
   "cell_type": "code",
   "execution_count": 55,
   "metadata": {},
   "outputs": [],
   "source": [
    "pca = PCA(n_components=3)\n",
    "scaler = StandardScaler()\n",
    "scaled_data = scaler.fit_transform(datafile)\n",
    "res = pca.fit_transform(scaled_data)\n",
    "res = pd.DataFrame(res, columns=['PCA1', 'PCA2', 'PCA3'])\n",
    "res['DEATH_EVENT'] = datafile.DEATH_EVENT.astype('str')\n",
    "res['sex'] = datafile.sex"
   ]
  },
  {
   "cell_type": "code",
   "execution_count": 58,
   "metadata": {},
   "outputs": [
    {
     "data": {
      "application/vnd.plotly.v1+json": {
       "config": {
        "plotlyServerURL": "https://plot.ly"
       },
       "data": [
        {
         "hovertemplate": "DEATH_EVENT=1<br>PCA1=%{x}<br>PCA2=%{y}<br>PCA3=%{z}<extra></extra>",
         "legendgroup": "1",
         "marker": {
          "color": "#636efa",
          "symbol": "circle"
         },
         "mode": "markers",
         "name": "1",
         "scene": "scene",
         "showlegend": true,
         "type": "scatter3d",
         "x": [
          3.112119749284542,
          1.008003141328565,
          2.529497595144271,
          2.0000813920124414,
          3.5131469021120036,
          3.5672440443561992,
          2.651633118069225,
          1.2916686836406779,
          0.9375348848089458,
          5.579886679302336,
          3.6736727210613878,
          1.760583194732335,
          1.43068048577901,
          1.623953934627609,
          2.403615052076644,
          2.1515429388461533,
          1.8657888152255686,
          2.0969241002227488,
          2.039943919160679,
          2.05669280941853,
          1.948576747029065,
          2.258967148614846,
          1.7439211356640227,
          2.675620701632879,
          1.7370951854417283,
          3.373637935623071,
          2.3348956704001744,
          2.8035078815391206,
          2.6734852360287937,
          1.7122968576614106,
          1.1911856057279169,
          2.398190669580637,
          2.209227775931323,
          1.3568860459773955,
          1.1884990900918468,
          2.5946514254363597,
          1.331721652961772,
          1.575631045806105,
          0.5625172967033212,
          1.118734901873872,
          1.7220145339060775,
          0.9164144492981752,
          4.128981396432896,
          0.9634663621292348,
          2.18861364802326,
          1.498771432677535,
          1.6947129444188127,
          1.5532096198187526,
          1.8386455920962748,
          2.9118126019707686,
          1.3851010442426106,
          2.0441552460843004,
          0.4120084909502704,
          1.6546264956631564,
          -0.03776172494994843,
          2.7286339795570864,
          1.0236436252897314,
          1.691016242427331,
          1.1047856743481572,
          1.3032218543330178,
          1.8690143237569645,
          1.7614570994190224,
          1.4093732760849491,
          1.9713638335299764,
          1.0820395454094427,
          1.7689072179546583,
          1.5815321969877214,
          1.511837378595667,
          0.8381236129272402,
          1.8103514212259926,
          1.8462211811607343,
          1.8198973823463775,
          1.4367967996583504,
          1.9050905567150367,
          1.9940893684285292,
          1.6737353144979532,
          0.10647396761375699,
          -0.15833458592914232,
          1.40574781235631,
          1.5027116322707679,
          0.9025522362045425,
          0.7748154318343953,
          1.8067094653329974,
          0.9035986826893389,
          0.6537756984147762,
          -0.25590363708147074,
          -0.0263452472757165,
          0.8472698828549519,
          0.7081272486524648,
          0.847375925857394,
          2.6662306636676902,
          1.2265284806110928,
          1.0642459622390958,
          -0.08451284315200319,
          1.0378922637629338,
          0.4588509147042576
         ],
         "y": [
          0.4355772331786083,
          1.9875439671837336,
          2.2189065448596534,
          0.3422219792361282,
          -1.465274443175756,
          0.5827248179754438,
          0.5587310886858806,
          -0.08087453418944612,
          -1.4105787905348917,
          0.2190925831871266,
          0.37827872598233664,
          1.422176018634404,
          0.45899389720312295,
          -0.5633790419856314,
          -0.0184805122607597,
          -0.17867966880211184,
          1.3343207163848572,
          -1.6013493394984772,
          -1.7241062082432843,
          -2.2813699841154254,
          0.6093155090046793,
          -1.598875764014364,
          1.1388433381301044,
          -1.8783523933687478,
          0.44344587473763664,
          -0.036467672752632276,
          1.3619644151021888,
          -0.5235050593220149,
          0.10075481194025787,
          -2.242256510538599,
          -0.7209358150302515,
          0.08223962591091234,
          -0.8475972563785301,
          -2.69245629111068,
          -1.5270317658051433,
          1.6190275787790325,
          -0.2775089166948636,
          0.6565943178928282,
          -2.195878171486892,
          1.168767829422562,
          0.6074877982092663,
          0.4690195523287929,
          -0.014097979902948575,
          -1.3957157208509814,
          -0.06924409920686185,
          -1.7029745665827785,
          -1.3343209752815253,
          -2.727165585143555,
          -0.6321535794080415,
          -0.19189776569448305,
          1.6552903373001824,
          1.0791970073355466,
          1.0781281679919288,
          -1.1332544019228574,
          0.43137762877540137,
          2.316031593652773,
          -1.2313458270863817,
          1.3321210610031518,
          -0.5459826287534831,
          -0.11224927602112841,
          2.9191922188840023,
          2.1636740216291566,
          1.5836548183991515,
          -1.4680523584254568,
          -2.112978193006374,
          0.3363883481735684,
          -0.9753519771069302,
          1.1993716705705695,
          -1.895602826644863,
          -0.6963857086891145,
          0.6179307448199867,
          -1.1689633043110674,
          0.6801288491374582,
          0.9621591028924835,
          0.30148533945433004,
          -1.3210573476070773,
          -1.0307547543537778,
          0.5806391463471315,
          -1.5052425050959772,
          0.6976637796146836,
          1.0616537015856766,
          1.5729377517500556,
          0.1488515350555659,
          1.5984919835997369,
          -0.4793971311379952,
          -0.5677397649112093,
          -0.8230530945913066,
          0.8661924829011284,
          -0.08273569370168359,
          -1.9019637361488355,
          -2.3062778081185344,
          1.0990979496746738,
          -0.047739718508707375,
          1.2435406996603318,
          0.07664692133282075,
          2.491696362527201
         ],
         "z": [
          -0.5682580119243263,
          -2.527496430817611,
          -0.7864215877208837,
          -0.347090268788898,
          -3.2428681913209245,
          1.9860422397499582,
          0.2454990492347849,
          0.22770554362949383,
          0.8167785945193318,
          0.944563175532612,
          1.159907980685045,
          0.8320577509130948,
          -0.31441930556331915,
          0.7957637822004223,
          1.5414919310442108,
          1.670008590300886,
          -2.3237873133881526,
          0.9455078988160293,
          -2.0176961472197408,
          -0.37302716771668065,
          1.9434138773756604,
          -1.0373819344508732,
          0.7660351031992448,
          1.9999834542946917,
          0.45191296208512083,
          -0.08192522903146013,
          -0.5550971557027923,
          0.07893949167119631,
          0.27819523958914133,
          -1.4117921415656598,
          0.4712663576239614,
          -1.3742541602309741,
          0.720363427316192,
          1.4868799274904487,
          -0.9542473022095236,
          0.10107571843200963,
          -0.8908377813266202,
          0.6458784577002552,
          0.5195908945267089,
          -1.1744862540506227,
          -1.29347238982364,
          -0.050782000307018245,
          0.2893206015571861,
          0.13687899864197048,
          0.8475179146684325,
          0.05347527437756042,
          -1.1287834529694416,
          0.27995944548107515,
          -0.7765095357652727,
          0.5718805948707738,
          -0.3707823917427995,
          -0.46094473362779265,
          -3.425257039633798,
          -0.8129491147361172,
          -0.031041054682582406,
          -1.2912723204364709,
          -2.1034014078849643,
          1.174441292857206,
          -0.08571027150267856,
          -1.6264635009762758,
          -1.1868951286108287,
          -0.4434323840966096,
          0.6173147347107066,
          -1.6780944309863546,
          -0.3182841002462296,
          -0.18126013255343987,
          1.074687299127147,
          1.3021231418135026,
          1.181694260225572,
          -0.16775504380031458,
          -0.6833553973378006,
          -3.2991238843355197,
          -0.07120389141538108,
          1.1927973612673624,
          0.14227951253163,
          0.3040938567342697,
          -1.2156464960612487,
          -2.295527039969796,
          -0.6584968370868503,
          -2.029302909408255,
          -0.5876850364213609,
          -1.1350978299747785,
          0.32650575977552604,
          0.3281874448747272,
          -0.9408141060685448,
          -0.759703559809968,
          -1.8427281033999596,
          -1.1228338475062931,
          1.7353315154097386,
          -1.666676485209808,
          0.8049543109621894,
          -1.0139476755394554,
          -1.81628330060197,
          -1.3811672275193139,
          -1.716366281172562,
          -1.3153458031856964
         ]
        },
        {
         "hovertemplate": "DEATH_EVENT=0<br>PCA1=%{x}<br>PCA2=%{y}<br>PCA3=%{z}<extra></extra>",
         "legendgroup": "0",
         "marker": {
          "color": "#EF553B",
          "symbol": "circle"
         },
         "mode": "markers",
         "name": "0",
         "scene": "scene",
         "showlegend": true,
         "type": "scatter3d",
         "x": [
          0.0994258532811692,
          0.9616165910541423,
          -0.7977732985930572,
          -0.2371835906109186,
          0.2572412434776186,
          0.4695548698203795,
          1.065731415032834,
          -0.04504749020934878,
          -0.3468589032865831,
          -1.5416348001547202,
          -1.1938968257111278,
          -0.41512850260668344,
          -0.24101880856882232,
          -0.5015973919355873,
          -1.121638447531572,
          0.8189777379079058,
          -0.7244753294357057,
          0.03692805848769993,
          -0.24124199285465725,
          1.207687331814467,
          -1.2746209797259476,
          -0.008811518640418091,
          -0.4329491782603728,
          -0.8913702616442831,
          0.09279401887467535,
          -0.27610465463758016,
          -0.4691605523236697,
          -1.4033995894070752,
          -0.9018411766815134,
          -0.41610457082926455,
          0.6577987256165826,
          -0.2496949890604391,
          0.13625234966667948,
          -0.45704220019156744,
          0.003115578189169765,
          0.2619324095506982,
          0.18430700483606796,
          -1.054121715961813,
          -0.3942598724803498,
          -0.6106358560574344,
          -0.7800304603443335,
          -0.0765038012697454,
          -1.7446556758297678,
          -0.24134378747820512,
          -0.38155387996218176,
          0.6010881710610781,
          -0.41342398607482406,
          -0.5918920738662069,
          0.45353252240682673,
          -0.53652444866999,
          0.13961200557801434,
          0.18722402314313571,
          -0.987892457826837,
          -0.24441318740532217,
          -0.8102992545313827,
          -1.0890706161704629,
          -0.03433252064071313,
          -0.15646285731767073,
          -0.6677193469409217,
          1.5549315524143807,
          -0.789447683515281,
          -0.8719436622368019,
          0.13200014240407773,
          -0.09347490183172084,
          -0.7214689987890914,
          0.9244811780644272,
          -0.6387915291324208,
          -0.511518033064976,
          -1.0890428101843512,
          -0.8368825185221886,
          -0.34786351886881195,
          -1.0136612349555443,
          -0.6059397205704169,
          -0.8788378682276571,
          -0.2415806473503014,
          -0.896985116637821,
          -0.4282804240234777,
          -0.9482845630096156,
          0.03678595484314358,
          -0.12278644970325352,
          -0.4908133291712992,
          -0.5794143931485022,
          0.46340066759503373,
          -0.31561769093014186,
          0.37915451448635745,
          -0.7602918956303854,
          -0.4986216910456981,
          -1.0714456496976181,
          -1.0273333913350964,
          -0.18701729487232407,
          -0.5850017272246809,
          -1.4179729008615891,
          -0.5636831706681844,
          -0.5906870621723211,
          -0.42714790020239557,
          -0.970092316033262,
          -0.264584875438275,
          -1.2275820709869096,
          -1.3631845890165202,
          -1.245948791793354,
          -1.4386512505417375,
          -0.549404946908107,
          -1.7559517778333018,
          -0.04484548561410435,
          -0.8669567367782801,
          -0.8593865578557605,
          -0.4122060564233311,
          -1.4313389024326317,
          -1.045376709225618,
          -0.5882214045467484,
          0.5563790544941855,
          -0.7489224114615969,
          -1.7906489444483118,
          -0.8782751820484244,
          0.5117610553137955,
          -0.33261283732591895,
          -1.5402390977375724,
          -1.8092367969731806,
          -0.22082190332298363,
          -1.43742700124698,
          -1.0114009527973091,
          -0.2646696528468269,
          -1.5664033674895148,
          -0.8812718050564816,
          -0.22788288177575608,
          -0.03722557911280756,
          -1.2867131086695731,
          -0.5260667739031676,
          -1.6222509850273732,
          -1.507665564736423,
          -1.4743010218135628,
          -1.0698409601181944,
          -1.5004795460183962,
          -0.6004090285180834,
          -0.1786100768181388,
          -0.8101510820484695,
          0.8414985561625218,
          -0.5342108323882808,
          -0.4929483253051695,
          -1.4770431318517383,
          -1.0171823485124043,
          -1.210157195412129,
          -0.43544020375615183,
          -1.2562829794739707,
          -0.319929637736138,
          -1.0629217982636578,
          -1.0768726262036588,
          -1.1763472849455756,
          -0.8625093984718423,
          -1.5967505169183098,
          -0.6895845020958521,
          -1.1222303172353234,
          -0.9415877411795835,
          -0.27858121926837737,
          -2.0658635300808665,
          -1.256122417056118,
          -1.7580267114129124,
          -2.038541697469749,
          -1.129418601244471,
          -0.48949799042698666,
          -1.3604656817944372,
          -1.2032390880507948,
          -1.2004526042585983,
          -1.341203055087239,
          -1.3282707263307367,
          -1.7351165423260746,
          -1.5336396547293363,
          -1.106091627261372,
          -1.6603808421545567,
          -1.5585210213792997,
          -1.6225848101555822,
          -1.1997344796445122,
          -2.4416387013209824,
          -1.792176203052813,
          -0.935138779791098,
          -1.8576205452561458,
          -1.030507428354874,
          -2.1984933652233107,
          -0.9732776799042424,
          -1.9788310986717672,
          -1.5910019198200944,
          -1.1922052256054496,
          -1.648993549396834,
          -1.9365297201039668,
          -1.4036666012715409,
          -0.29053289233605967,
          -0.25733759440091475,
          -1.3412825914667945,
          -1.828956493718396,
          -1.4066110354853498,
          -1.3779113496045061,
          -2.5406044692329965,
          -1.8952354689624993,
          -1.0817694539654106,
          -2.8283300714813953,
          -1.3139828150759203,
          -2.154513008218455,
          -1.1366011820763187,
          -1.510518146670105,
          -2.0208225978093517,
          -3.5018376141652694,
          -2.027085831006971,
          -1.9377984941694928
         ],
         "y": [
          -1.8785389216264898,
          -1.5902982463762414,
          -0.5906128744764068,
          -1.7196676974315555,
          0.5499529988963558,
          -0.6594573953026597,
          1.204911762061882,
          1.3057520405766618,
          1.7961625213883547,
          -1.4592135807335196,
          1.5646803667269196,
          1.563751896312341,
          1.140315574420105,
          -0.5939894692262477,
          0.038673287343822034,
          0.21877066239786433,
          -1.3965152420651539,
          -0.8369996972214072,
          1.5765799894116903,
          -0.6028471137515611,
          0.11033344234643694,
          0.28741225170236456,
          -1.5431554523421596,
          -0.4145957681586501,
          -0.13682997464363597,
          1.0866040306652032,
          0.049085694163508144,
          -1.0214197307753723,
          -1.8401703166899523,
          -0.8680536723266271,
          -0.6062500056849865,
          -1.7118440909735853,
          -2.0716200770527893,
          -1.8093909488875106,
          0.2291228357469712,
          0.012373225420955666,
          2.2271462362949315,
          2.9945949277606405,
          -1.5709462384797825,
          0.5706801114626507,
          -0.004708708862864438,
          1.9003525656493365,
          0.43374659186402165,
          1.8991239294704765,
          0.4056948148140739,
          -0.8696092622880733,
          -1.094780410021305,
          -2.693654224052168,
          -2.1887680012477406,
          -2.6511414808842897,
          0.5022654376574819,
          -2.109974511268356,
          -1.1943750405463562,
          -1.3416981390097955,
          -1.3387769716977953,
          -2.2344090168470236,
          1.50662804442314,
          -0.4740945945665047,
          0.675782833379353,
          -0.4987494002115645,
          -1.0465102310759136,
          0.7229495688854318,
          2.709370577854976,
          0.6168311448642381,
          -2.0889537317052014,
          0.390832311363541,
          -1.0407505557058394,
          0.6709115867300615,
          -1.2452108299709566,
          -0.9825511064478902,
          -1.7373047381390396,
          1.9565689966310464,
          2.0667619554400676,
          0.47966354069870093,
          0.6858148334577351,
          -0.8544843602730434,
          1.3543125250488628,
          1.6886426889374175,
          -1.5356596700815184,
          -0.12183943409346003,
          -1.1597018006578428,
          2.1316397275010326,
          -0.010376224086662923,
          0.4651098306973797,
          -0.4115365780532592,
          1.4709935776935004,
          1.029062665970046,
          1.517366068458489,
          -1.1495747821224516,
          -0.9430651055686021,
          0.9188828815663744,
          2.444650632091334,
          0.3784946556709912,
          0.5888599776671265,
          0.8622550365922408,
          0.7078231070022531,
          2.282245719562239,
          -1.2432829855268945,
          -0.9834171830697525,
          1.8983943523757023,
          0.3598335931557048,
          -2.093097831163033,
          -1.1936119617640581,
          0.12630744652935316,
          -1.6782855051381158,
          -0.3231345111843394,
          1.0365432550504114,
          -1.4745457987590265,
          -0.4202291877025761,
          -1.65176096487212,
          1.856805751127005,
          0.6118267088195425,
          -0.8491228916978145,
          -0.20457652109000324,
          1.6631658021739455,
          1.2227143028529113,
          -1.9086382174557195,
          -1.1098257363874289,
          0.785006424187087,
          -1.352731819755478,
          -1.2632268025718774,
          1.116255814644375,
          1.1739523543280406,
          1.270108414724325,
          -0.2713340272009011,
          0.46141601348559513,
          -1.2891419368021837,
          -0.1347346015326097,
          -1.601061847164993,
          1.647948059575798,
          1.2672386038332057,
          1.3384268630908007,
          0.18073026628119312,
          -1.35531121008171,
          1.7628391448166485,
          0.4374882738483478,
          -0.3253521886180219,
          -0.2935744924350944,
          2.0797027690463588,
          0.3003263512614876,
          1.3746465441802518,
          1.253111658036889,
          -0.8089925157264565,
          -0.13800350526650432,
          1.0680076795626328,
          -1.5524543258253367,
          1.2309051225449115,
          -1.9661323715318255,
          1.6397461729084826,
          2.030282885249959,
          -1.421064899338535,
          0.30781887089360904,
          -0.4040568205014139,
          0.9942712222028006,
          2.007094599315068,
          -0.9608564417789726,
          -0.5867509150579302,
          -0.9313343833797507,
          0.1832532541377892,
          -1.4422927744048577,
          -0.6903709710839707,
          0.38762786346384326,
          -0.6048271405071173,
          -0.2641735744734512,
          0.029447508948896743,
          1.651358960329454,
          0.7892291020243123,
          -0.9968501706688223,
          -2.0199024325137405,
          0.4336820525095794,
          1.333132045938695,
          -0.16743456268580115,
          -1.0098421096524446,
          0.5461212519650588,
          1.2811477585546616,
          -0.8800365599356149,
          -0.40622578190401754,
          0.8417784319817325,
          1.2205057504800496,
          -1.098483103589586,
          -0.5331556209384968,
          0.6166868798280492,
          -1.1601599949318002,
          -1.3189478628994968,
          0.7073134042796767,
          2.2483237317845104,
          2.2287544239143418,
          2.2309947792516778,
          0.12938732360158328,
          -0.4235092556079295,
          0.7795513329129532,
          -1.624236523936326,
          -0.8927993145952126,
          -1.34388067983918,
          -1.2258890409089194,
          1.0380466865663802,
          1.2507372626431845,
          1.0797937482732418,
          1.0358679660502137,
          -0.1794440332384134,
          -1.7588989763532665,
          2.606896457735442,
          1.6816703482245345
         ],
         "z": [
          0.6132832454112599,
          0.8435740749985519,
          -0.2013261676825911,
          -0.759865685892778,
          -1.711629747419845,
          0.41841264350914986,
          1.5312184114304972,
          1.4286045436803205,
          0.6736631099018676,
          0.838025706091844,
          0.4930090562173888,
          -0.20940459386171165,
          0.3800202921919522,
          2.259776808428636,
          -0.7939640434045967,
          0.8044096761937153,
          0.7657441136590025,
          0.16070700331939108,
          1.174248506664418,
          1.9361155500014884,
          0.6676434853547477,
          0.5490249892857217,
          1.6923414921119848,
          -0.2887744337857557,
          1.5298417802828954,
          0.29064820592100243,
          -1.0259899758557136,
          0.0329695185022878,
          -0.02126473600020971,
          2.462010438678247,
          -0.3107177399275452,
          1.5210241928755652,
          -0.3200229569865819,
          0.1415922879882597,
          0.853428368127576,
          1.261672699690502,
          1.3021437366221527,
          -1.29590919190715,
          1.3405975698236832,
          0.11982143529012358,
          -0.9685939701511457,
          0.1278163810964695,
          -0.5510143749968983,
          0.2623809351039561,
          -1.6060193298592693,
          -0.7524189006823268,
          0.7071404654107589,
          0.8568946787136003,
          1.85593357177546,
          1.3924105065887513,
          2.1710181953949896,
          0.29493967884820077,
          -0.6295558964524994,
          1.4657298171328892,
          0.18611061359436457,
          0.32637701397887525,
          0.8135088557646062,
          0.18595861404187827,
          1.9760752129704247,
          -1.0801004736014703,
          -0.11366804585812794,
          2.729316070677667,
          -0.13473311144918032,
          0.5552922056337753,
          0.6077305356310431,
          -0.33207754510673126,
          -1.1509187490702477,
          -0.1449526598746928,
          0.22680565132758518,
          -2.1503897011396917,
          1.5400856346752978,
          0.4803621695028993,
          0.0905873667768229,
          0.6415789633829763,
          -0.11025082244503816,
          0.8649336716107514,
          0.8579762046959166,
          -1.1498812638632867,
          0.918431164536091,
          -0.30167565467215157,
          0.05548418807067343,
          -0.22704739080477745,
          1.4033597819464585,
          2.1230350605059773,
          1.2659334779159144,
          0.965198690612668,
          1.213883240303145,
          0.8170305559485731,
          -0.851619081706727,
          -0.05354174501033905,
          -0.29071435537390017,
          -0.4106059108859207,
          3.5624801303849094,
          0.09379925391745791,
          0.2494910740826318,
          2.0613882408195794,
          0.4232924385325147,
          0.9201851752275009,
          1.4819762089026576,
          0.6284605264149723,
          -1.8001830512763473,
          0.06161709063378602,
          0.23765862148066733,
          -0.8467883066527743,
          1.0718442576049139,
          -1.0272113292052725,
          0.8688894095337114,
          -1.1644128955137243,
          -0.23775469319295905,
          -1.3075232937715922,
          -3.131614566770403,
          0.6520050708280282,
          -0.15402967727922318,
          1.774116661161035,
          0.34923523823515223,
          1.7911894508050807,
          -0.6674164356523834,
          0.3241254642043849,
          0.7263498107496189,
          -0.6601829208959749,
          -1.9164259221130115,
          -0.4388109887337068,
          1.80456347709322,
          1.4264294860590512,
          0.9553242879180053,
          0.4303564616502047,
          1.02744484413759,
          -0.6268794720036989,
          -0.7115348307973997,
          1.881911773850177,
          0.679791949891934,
          -1.1110902468039427,
          -1.4587967080090392,
          -1.2733469969363482,
          0.1769743583562508,
          0.4891490588796377,
          -1.5033362867657465,
          -0.6744057537259703,
          0.4469553062788157,
          0.004194818992961756,
          0.704298090223723,
          1.016683480064121,
          2.0265975060851638,
          2.4704521965179134,
          -0.42572798623875735,
          -0.561425442585553,
          1.1996471191337634,
          -0.36012161016916633,
          -0.7503872751893729,
          -0.25813222378434586,
          1.4206125560285963,
          -1.4909749130647425,
          -0.21024596318858835,
          -0.5859469171365025,
          0.15026919730221341,
          -1.960810103298772,
          -0.8336215636327801,
          -0.9032531118137503,
          0.08286521874835089,
          -0.9167962109375586,
          1.8288961868688576,
          0.6750953675880789,
          -0.04467759597293733,
          -0.21256280712502945,
          -1.2673577056894607,
          0.53341155410325,
          0.0858377501362727,
          -0.05428969310967071,
          0.7486515872545924,
          -0.5549403855095841,
          0.9065693133807274,
          -0.09089421726341801,
          -1.456872023264408,
          -2.155365930108395,
          -1.5040771370047306,
          -1.7610904561615377,
          -0.49675423666971935,
          -0.08363982510412314,
          -0.06948167622727211,
          -0.3986368909649231,
          0.19847599473649674,
          -0.3486892341490086,
          -1.454658806011726,
          -1.5003742595175533,
          -1.2675527675910165,
          0.5350025928457661,
          -1.3889731959693465,
          0.23311428233138956,
          0.8136945240265643,
          -0.5910237986873103,
          0.08565240506566595,
          -1.750749024276624,
          -0.8995869180283724,
          1.7476972613530026,
          -0.7614660360024249,
          0.03924191029780051,
          -0.44153890671697366,
          0.1000763540672875,
          0.7431735330099025,
          -0.7953228950995892,
          -1.5355935273750208,
          -0.38222894824267606,
          0.14730456811068982
         ]
        }
       ],
       "layout": {
        "legend": {
         "title": {
          "text": "DEATH_EVENT"
         },
         "tracegroupgap": 0
        },
        "margin": {
         "t": 60
        },
        "scene": {
         "domain": {
          "x": [
           0,
           1
          ],
          "y": [
           0,
           1
          ]
         },
         "xaxis": {
          "title": {
           "text": "PCA1"
          }
         },
         "yaxis": {
          "title": {
           "text": "PCA2"
          }
         },
         "zaxis": {
          "title": {
           "text": "PCA3"
          }
         }
        },
        "template": {
         "data": {
          "bar": [
           {
            "error_x": {
             "color": "#2a3f5f"
            },
            "error_y": {
             "color": "#2a3f5f"
            },
            "marker": {
             "line": {
              "color": "#E5ECF6",
              "width": 0.5
             }
            },
            "type": "bar"
           }
          ],
          "barpolar": [
           {
            "marker": {
             "line": {
              "color": "#E5ECF6",
              "width": 0.5
             }
            },
            "type": "barpolar"
           }
          ],
          "carpet": [
           {
            "aaxis": {
             "endlinecolor": "#2a3f5f",
             "gridcolor": "white",
             "linecolor": "white",
             "minorgridcolor": "white",
             "startlinecolor": "#2a3f5f"
            },
            "baxis": {
             "endlinecolor": "#2a3f5f",
             "gridcolor": "white",
             "linecolor": "white",
             "minorgridcolor": "white",
             "startlinecolor": "#2a3f5f"
            },
            "type": "carpet"
           }
          ],
          "choropleth": [
           {
            "colorbar": {
             "outlinewidth": 0,
             "ticks": ""
            },
            "type": "choropleth"
           }
          ],
          "contour": [
           {
            "colorbar": {
             "outlinewidth": 0,
             "ticks": ""
            },
            "colorscale": [
             [
              0,
              "#0d0887"
             ],
             [
              0.1111111111111111,
              "#46039f"
             ],
             [
              0.2222222222222222,
              "#7201a8"
             ],
             [
              0.3333333333333333,
              "#9c179e"
             ],
             [
              0.4444444444444444,
              "#bd3786"
             ],
             [
              0.5555555555555556,
              "#d8576b"
             ],
             [
              0.6666666666666666,
              "#ed7953"
             ],
             [
              0.7777777777777778,
              "#fb9f3a"
             ],
             [
              0.8888888888888888,
              "#fdca26"
             ],
             [
              1,
              "#f0f921"
             ]
            ],
            "type": "contour"
           }
          ],
          "contourcarpet": [
           {
            "colorbar": {
             "outlinewidth": 0,
             "ticks": ""
            },
            "type": "contourcarpet"
           }
          ],
          "heatmap": [
           {
            "colorbar": {
             "outlinewidth": 0,
             "ticks": ""
            },
            "colorscale": [
             [
              0,
              "#0d0887"
             ],
             [
              0.1111111111111111,
              "#46039f"
             ],
             [
              0.2222222222222222,
              "#7201a8"
             ],
             [
              0.3333333333333333,
              "#9c179e"
             ],
             [
              0.4444444444444444,
              "#bd3786"
             ],
             [
              0.5555555555555556,
              "#d8576b"
             ],
             [
              0.6666666666666666,
              "#ed7953"
             ],
             [
              0.7777777777777778,
              "#fb9f3a"
             ],
             [
              0.8888888888888888,
              "#fdca26"
             ],
             [
              1,
              "#f0f921"
             ]
            ],
            "type": "heatmap"
           }
          ],
          "heatmapgl": [
           {
            "colorbar": {
             "outlinewidth": 0,
             "ticks": ""
            },
            "colorscale": [
             [
              0,
              "#0d0887"
             ],
             [
              0.1111111111111111,
              "#46039f"
             ],
             [
              0.2222222222222222,
              "#7201a8"
             ],
             [
              0.3333333333333333,
              "#9c179e"
             ],
             [
              0.4444444444444444,
              "#bd3786"
             ],
             [
              0.5555555555555556,
              "#d8576b"
             ],
             [
              0.6666666666666666,
              "#ed7953"
             ],
             [
              0.7777777777777778,
              "#fb9f3a"
             ],
             [
              0.8888888888888888,
              "#fdca26"
             ],
             [
              1,
              "#f0f921"
             ]
            ],
            "type": "heatmapgl"
           }
          ],
          "histogram": [
           {
            "marker": {
             "colorbar": {
              "outlinewidth": 0,
              "ticks": ""
             }
            },
            "type": "histogram"
           }
          ],
          "histogram2d": [
           {
            "colorbar": {
             "outlinewidth": 0,
             "ticks": ""
            },
            "colorscale": [
             [
              0,
              "#0d0887"
             ],
             [
              0.1111111111111111,
              "#46039f"
             ],
             [
              0.2222222222222222,
              "#7201a8"
             ],
             [
              0.3333333333333333,
              "#9c179e"
             ],
             [
              0.4444444444444444,
              "#bd3786"
             ],
             [
              0.5555555555555556,
              "#d8576b"
             ],
             [
              0.6666666666666666,
              "#ed7953"
             ],
             [
              0.7777777777777778,
              "#fb9f3a"
             ],
             [
              0.8888888888888888,
              "#fdca26"
             ],
             [
              1,
              "#f0f921"
             ]
            ],
            "type": "histogram2d"
           }
          ],
          "histogram2dcontour": [
           {
            "colorbar": {
             "outlinewidth": 0,
             "ticks": ""
            },
            "colorscale": [
             [
              0,
              "#0d0887"
             ],
             [
              0.1111111111111111,
              "#46039f"
             ],
             [
              0.2222222222222222,
              "#7201a8"
             ],
             [
              0.3333333333333333,
              "#9c179e"
             ],
             [
              0.4444444444444444,
              "#bd3786"
             ],
             [
              0.5555555555555556,
              "#d8576b"
             ],
             [
              0.6666666666666666,
              "#ed7953"
             ],
             [
              0.7777777777777778,
              "#fb9f3a"
             ],
             [
              0.8888888888888888,
              "#fdca26"
             ],
             [
              1,
              "#f0f921"
             ]
            ],
            "type": "histogram2dcontour"
           }
          ],
          "mesh3d": [
           {
            "colorbar": {
             "outlinewidth": 0,
             "ticks": ""
            },
            "type": "mesh3d"
           }
          ],
          "parcoords": [
           {
            "line": {
             "colorbar": {
              "outlinewidth": 0,
              "ticks": ""
             }
            },
            "type": "parcoords"
           }
          ],
          "pie": [
           {
            "automargin": true,
            "type": "pie"
           }
          ],
          "scatter": [
           {
            "marker": {
             "colorbar": {
              "outlinewidth": 0,
              "ticks": ""
             }
            },
            "type": "scatter"
           }
          ],
          "scatter3d": [
           {
            "line": {
             "colorbar": {
              "outlinewidth": 0,
              "ticks": ""
             }
            },
            "marker": {
             "colorbar": {
              "outlinewidth": 0,
              "ticks": ""
             }
            },
            "type": "scatter3d"
           }
          ],
          "scattercarpet": [
           {
            "marker": {
             "colorbar": {
              "outlinewidth": 0,
              "ticks": ""
             }
            },
            "type": "scattercarpet"
           }
          ],
          "scattergeo": [
           {
            "marker": {
             "colorbar": {
              "outlinewidth": 0,
              "ticks": ""
             }
            },
            "type": "scattergeo"
           }
          ],
          "scattergl": [
           {
            "marker": {
             "colorbar": {
              "outlinewidth": 0,
              "ticks": ""
             }
            },
            "type": "scattergl"
           }
          ],
          "scattermapbox": [
           {
            "marker": {
             "colorbar": {
              "outlinewidth": 0,
              "ticks": ""
             }
            },
            "type": "scattermapbox"
           }
          ],
          "scatterpolar": [
           {
            "marker": {
             "colorbar": {
              "outlinewidth": 0,
              "ticks": ""
             }
            },
            "type": "scatterpolar"
           }
          ],
          "scatterpolargl": [
           {
            "marker": {
             "colorbar": {
              "outlinewidth": 0,
              "ticks": ""
             }
            },
            "type": "scatterpolargl"
           }
          ],
          "scatterternary": [
           {
            "marker": {
             "colorbar": {
              "outlinewidth": 0,
              "ticks": ""
             }
            },
            "type": "scatterternary"
           }
          ],
          "surface": [
           {
            "colorbar": {
             "outlinewidth": 0,
             "ticks": ""
            },
            "colorscale": [
             [
              0,
              "#0d0887"
             ],
             [
              0.1111111111111111,
              "#46039f"
             ],
             [
              0.2222222222222222,
              "#7201a8"
             ],
             [
              0.3333333333333333,
              "#9c179e"
             ],
             [
              0.4444444444444444,
              "#bd3786"
             ],
             [
              0.5555555555555556,
              "#d8576b"
             ],
             [
              0.6666666666666666,
              "#ed7953"
             ],
             [
              0.7777777777777778,
              "#fb9f3a"
             ],
             [
              0.8888888888888888,
              "#fdca26"
             ],
             [
              1,
              "#f0f921"
             ]
            ],
            "type": "surface"
           }
          ],
          "table": [
           {
            "cells": {
             "fill": {
              "color": "#EBF0F8"
             },
             "line": {
              "color": "white"
             }
            },
            "header": {
             "fill": {
              "color": "#C8D4E3"
             },
             "line": {
              "color": "white"
             }
            },
            "type": "table"
           }
          ]
         },
         "layout": {
          "annotationdefaults": {
           "arrowcolor": "#2a3f5f",
           "arrowhead": 0,
           "arrowwidth": 1
          },
          "coloraxis": {
           "colorbar": {
            "outlinewidth": 0,
            "ticks": ""
           }
          },
          "colorscale": {
           "diverging": [
            [
             0,
             "#8e0152"
            ],
            [
             0.1,
             "#c51b7d"
            ],
            [
             0.2,
             "#de77ae"
            ],
            [
             0.3,
             "#f1b6da"
            ],
            [
             0.4,
             "#fde0ef"
            ],
            [
             0.5,
             "#f7f7f7"
            ],
            [
             0.6,
             "#e6f5d0"
            ],
            [
             0.7,
             "#b8e186"
            ],
            [
             0.8,
             "#7fbc41"
            ],
            [
             0.9,
             "#4d9221"
            ],
            [
             1,
             "#276419"
            ]
           ],
           "sequential": [
            [
             0,
             "#0d0887"
            ],
            [
             0.1111111111111111,
             "#46039f"
            ],
            [
             0.2222222222222222,
             "#7201a8"
            ],
            [
             0.3333333333333333,
             "#9c179e"
            ],
            [
             0.4444444444444444,
             "#bd3786"
            ],
            [
             0.5555555555555556,
             "#d8576b"
            ],
            [
             0.6666666666666666,
             "#ed7953"
            ],
            [
             0.7777777777777778,
             "#fb9f3a"
            ],
            [
             0.8888888888888888,
             "#fdca26"
            ],
            [
             1,
             "#f0f921"
            ]
           ],
           "sequentialminus": [
            [
             0,
             "#0d0887"
            ],
            [
             0.1111111111111111,
             "#46039f"
            ],
            [
             0.2222222222222222,
             "#7201a8"
            ],
            [
             0.3333333333333333,
             "#9c179e"
            ],
            [
             0.4444444444444444,
             "#bd3786"
            ],
            [
             0.5555555555555556,
             "#d8576b"
            ],
            [
             0.6666666666666666,
             "#ed7953"
            ],
            [
             0.7777777777777778,
             "#fb9f3a"
            ],
            [
             0.8888888888888888,
             "#fdca26"
            ],
            [
             1,
             "#f0f921"
            ]
           ]
          },
          "colorway": [
           "#636efa",
           "#EF553B",
           "#00cc96",
           "#ab63fa",
           "#FFA15A",
           "#19d3f3",
           "#FF6692",
           "#B6E880",
           "#FF97FF",
           "#FECB52"
          ],
          "font": {
           "color": "#2a3f5f"
          },
          "geo": {
           "bgcolor": "white",
           "lakecolor": "white",
           "landcolor": "#E5ECF6",
           "showlakes": true,
           "showland": true,
           "subunitcolor": "white"
          },
          "hoverlabel": {
           "align": "left"
          },
          "hovermode": "closest",
          "mapbox": {
           "style": "light"
          },
          "paper_bgcolor": "white",
          "plot_bgcolor": "#E5ECF6",
          "polar": {
           "angularaxis": {
            "gridcolor": "white",
            "linecolor": "white",
            "ticks": ""
           },
           "bgcolor": "#E5ECF6",
           "radialaxis": {
            "gridcolor": "white",
            "linecolor": "white",
            "ticks": ""
           }
          },
          "scene": {
           "xaxis": {
            "backgroundcolor": "#E5ECF6",
            "gridcolor": "white",
            "gridwidth": 2,
            "linecolor": "white",
            "showbackground": true,
            "ticks": "",
            "zerolinecolor": "white"
           },
           "yaxis": {
            "backgroundcolor": "#E5ECF6",
            "gridcolor": "white",
            "gridwidth": 2,
            "linecolor": "white",
            "showbackground": true,
            "ticks": "",
            "zerolinecolor": "white"
           },
           "zaxis": {
            "backgroundcolor": "#E5ECF6",
            "gridcolor": "white",
            "gridwidth": 2,
            "linecolor": "white",
            "showbackground": true,
            "ticks": "",
            "zerolinecolor": "white"
           }
          },
          "shapedefaults": {
           "line": {
            "color": "#2a3f5f"
           }
          },
          "ternary": {
           "aaxis": {
            "gridcolor": "white",
            "linecolor": "white",
            "ticks": ""
           },
           "baxis": {
            "gridcolor": "white",
            "linecolor": "white",
            "ticks": ""
           },
           "bgcolor": "#E5ECF6",
           "caxis": {
            "gridcolor": "white",
            "linecolor": "white",
            "ticks": ""
           }
          },
          "title": {
           "x": 0.05
          },
          "xaxis": {
           "automargin": true,
           "gridcolor": "white",
           "linecolor": "white",
           "ticks": "",
           "title": {
            "standoff": 15
           },
           "zerolinecolor": "white",
           "zerolinewidth": 2
          },
          "yaxis": {
           "automargin": true,
           "gridcolor": "white",
           "linecolor": "white",
           "ticks": "",
           "title": {
            "standoff": 15
           },
           "zerolinecolor": "white",
           "zerolinewidth": 2
          }
         }
        }
       }
      },
      "text/html": [
       "<div>\n",
       "        \n",
       "        \n",
       "            <div id=\"862dfdcc-0db2-4764-a326-439489ecff16\" class=\"plotly-graph-div\" style=\"height:525px; width:100%;\"></div>\n",
       "            <script type=\"text/javascript\">\n",
       "                require([\"plotly\"], function(Plotly) {\n",
       "                    window.PLOTLYENV=window.PLOTLYENV || {};\n",
       "                    \n",
       "                if (document.getElementById(\"862dfdcc-0db2-4764-a326-439489ecff16\")) {\n",
       "                    Plotly.newPlot(\n",
       "                        '862dfdcc-0db2-4764-a326-439489ecff16',\n",
       "                        [{\"hovertemplate\": \"DEATH_EVENT=1<br>PCA1=%{x}<br>PCA2=%{y}<br>PCA3=%{z}<extra></extra>\", \"legendgroup\": \"1\", \"marker\": {\"color\": \"#636efa\", \"symbol\": \"circle\"}, \"mode\": \"markers\", \"name\": \"1\", \"scene\": \"scene\", \"showlegend\": true, \"type\": \"scatter3d\", \"x\": [3.112119749284542, 1.008003141328565, 2.529497595144271, 2.0000813920124414, 3.5131469021120036, 3.5672440443561992, 2.651633118069225, 1.2916686836406779, 0.9375348848089458, 5.579886679302336, 3.6736727210613878, 1.760583194732335, 1.43068048577901, 1.623953934627609, 2.403615052076644, 2.1515429388461533, 1.8657888152255686, 2.0969241002227488, 2.039943919160679, 2.05669280941853, 1.948576747029065, 2.258967148614846, 1.7439211356640227, 2.675620701632879, 1.7370951854417283, 3.373637935623071, 2.3348956704001744, 2.8035078815391206, 2.6734852360287937, 1.7122968576614106, 1.1911856057279169, 2.398190669580637, 2.209227775931323, 1.3568860459773955, 1.1884990900918468, 2.5946514254363597, 1.331721652961772, 1.575631045806105, 0.5625172967033212, 1.118734901873872, 1.7220145339060775, 0.9164144492981752, 4.128981396432896, 0.9634663621292348, 2.18861364802326, 1.498771432677535, 1.6947129444188127, 1.5532096198187526, 1.8386455920962748, 2.9118126019707686, 1.3851010442426106, 2.0441552460843004, 0.4120084909502704, 1.6546264956631564, -0.03776172494994843, 2.7286339795570864, 1.0236436252897314, 1.691016242427331, 1.1047856743481572, 1.3032218543330178, 1.8690143237569645, 1.7614570994190224, 1.4093732760849491, 1.9713638335299764, 1.0820395454094427, 1.7689072179546583, 1.5815321969877214, 1.511837378595667, 0.8381236129272402, 1.8103514212259926, 1.8462211811607343, 1.8198973823463775, 1.4367967996583504, 1.9050905567150367, 1.9940893684285292, 1.6737353144979532, 0.10647396761375699, -0.15833458592914232, 1.40574781235631, 1.5027116322707679, 0.9025522362045425, 0.7748154318343953, 1.8067094653329974, 0.9035986826893389, 0.6537756984147762, -0.25590363708147074, -0.0263452472757165, 0.8472698828549519, 0.7081272486524648, 0.847375925857394, 2.6662306636676902, 1.2265284806110928, 1.0642459622390958, -0.08451284315200319, 1.0378922637629338, 0.4588509147042576], \"y\": [0.4355772331786083, 1.9875439671837336, 2.2189065448596534, 0.3422219792361282, -1.465274443175756, 0.5827248179754438, 0.5587310886858806, -0.08087453418944612, -1.4105787905348917, 0.2190925831871266, 0.37827872598233664, 1.422176018634404, 0.45899389720312295, -0.5633790419856314, -0.0184805122607597, -0.17867966880211184, 1.3343207163848572, -1.6013493394984772, -1.7241062082432843, -2.2813699841154254, 0.6093155090046793, -1.598875764014364, 1.1388433381301044, -1.8783523933687478, 0.44344587473763664, -0.036467672752632276, 1.3619644151021888, -0.5235050593220149, 0.10075481194025787, -2.242256510538599, -0.7209358150302515, 0.08223962591091234, -0.8475972563785301, -2.69245629111068, -1.5270317658051433, 1.6190275787790325, -0.2775089166948636, 0.6565943178928282, -2.195878171486892, 1.168767829422562, 0.6074877982092663, 0.4690195523287929, -0.014097979902948575, -1.3957157208509814, -0.06924409920686185, -1.7029745665827785, -1.3343209752815253, -2.727165585143555, -0.6321535794080415, -0.19189776569448305, 1.6552903373001824, 1.0791970073355466, 1.0781281679919288, -1.1332544019228574, 0.43137762877540137, 2.316031593652773, -1.2313458270863817, 1.3321210610031518, -0.5459826287534831, -0.11224927602112841, 2.9191922188840023, 2.1636740216291566, 1.5836548183991515, -1.4680523584254568, -2.112978193006374, 0.3363883481735684, -0.9753519771069302, 1.1993716705705695, -1.895602826644863, -0.6963857086891145, 0.6179307448199867, -1.1689633043110674, 0.6801288491374582, 0.9621591028924835, 0.30148533945433004, -1.3210573476070773, -1.0307547543537778, 0.5806391463471315, -1.5052425050959772, 0.6976637796146836, 1.0616537015856766, 1.5729377517500556, 0.1488515350555659, 1.5984919835997369, -0.4793971311379952, -0.5677397649112093, -0.8230530945913066, 0.8661924829011284, -0.08273569370168359, -1.9019637361488355, -2.3062778081185344, 1.0990979496746738, -0.047739718508707375, 1.2435406996603318, 0.07664692133282075, 2.491696362527201], \"z\": [-0.5682580119243263, -2.527496430817611, -0.7864215877208837, -0.347090268788898, -3.2428681913209245, 1.9860422397499582, 0.2454990492347849, 0.22770554362949383, 0.8167785945193318, 0.944563175532612, 1.159907980685045, 0.8320577509130948, -0.31441930556331915, 0.7957637822004223, 1.5414919310442108, 1.670008590300886, -2.3237873133881526, 0.9455078988160293, -2.0176961472197408, -0.37302716771668065, 1.9434138773756604, -1.0373819344508732, 0.7660351031992448, 1.9999834542946917, 0.45191296208512083, -0.08192522903146013, -0.5550971557027923, 0.07893949167119631, 0.27819523958914133, -1.4117921415656598, 0.4712663576239614, -1.3742541602309741, 0.720363427316192, 1.4868799274904487, -0.9542473022095236, 0.10107571843200963, -0.8908377813266202, 0.6458784577002552, 0.5195908945267089, -1.1744862540506227, -1.29347238982364, -0.050782000307018245, 0.2893206015571861, 0.13687899864197048, 0.8475179146684325, 0.05347527437756042, -1.1287834529694416, 0.27995944548107515, -0.7765095357652727, 0.5718805948707738, -0.3707823917427995, -0.46094473362779265, -3.425257039633798, -0.8129491147361172, -0.031041054682582406, -1.2912723204364709, -2.1034014078849643, 1.174441292857206, -0.08571027150267856, -1.6264635009762758, -1.1868951286108287, -0.4434323840966096, 0.6173147347107066, -1.6780944309863546, -0.3182841002462296, -0.18126013255343987, 1.074687299127147, 1.3021231418135026, 1.181694260225572, -0.16775504380031458, -0.6833553973378006, -3.2991238843355197, -0.07120389141538108, 1.1927973612673624, 0.14227951253163, 0.3040938567342697, -1.2156464960612487, -2.295527039969796, -0.6584968370868503, -2.029302909408255, -0.5876850364213609, -1.1350978299747785, 0.32650575977552604, 0.3281874448747272, -0.9408141060685448, -0.759703559809968, -1.8427281033999596, -1.1228338475062931, 1.7353315154097386, -1.666676485209808, 0.8049543109621894, -1.0139476755394554, -1.81628330060197, -1.3811672275193139, -1.716366281172562, -1.3153458031856964]}, {\"hovertemplate\": \"DEATH_EVENT=0<br>PCA1=%{x}<br>PCA2=%{y}<br>PCA3=%{z}<extra></extra>\", \"legendgroup\": \"0\", \"marker\": {\"color\": \"#EF553B\", \"symbol\": \"circle\"}, \"mode\": \"markers\", \"name\": \"0\", \"scene\": \"scene\", \"showlegend\": true, \"type\": \"scatter3d\", \"x\": [0.0994258532811692, 0.9616165910541423, -0.7977732985930572, -0.2371835906109186, 0.2572412434776186, 0.4695548698203795, 1.065731415032834, -0.04504749020934878, -0.3468589032865831, -1.5416348001547202, -1.1938968257111278, -0.41512850260668344, -0.24101880856882232, -0.5015973919355873, -1.121638447531572, 0.8189777379079058, -0.7244753294357057, 0.03692805848769993, -0.24124199285465725, 1.207687331814467, -1.2746209797259476, -0.008811518640418091, -0.4329491782603728, -0.8913702616442831, 0.09279401887467535, -0.27610465463758016, -0.4691605523236697, -1.4033995894070752, -0.9018411766815134, -0.41610457082926455, 0.6577987256165826, -0.2496949890604391, 0.13625234966667948, -0.45704220019156744, 0.003115578189169765, 0.2619324095506982, 0.18430700483606796, -1.054121715961813, -0.3942598724803498, -0.6106358560574344, -0.7800304603443335, -0.0765038012697454, -1.7446556758297678, -0.24134378747820512, -0.38155387996218176, 0.6010881710610781, -0.41342398607482406, -0.5918920738662069, 0.45353252240682673, -0.53652444866999, 0.13961200557801434, 0.18722402314313571, -0.987892457826837, -0.24441318740532217, -0.8102992545313827, -1.0890706161704629, -0.03433252064071313, -0.15646285731767073, -0.6677193469409217, 1.5549315524143807, -0.789447683515281, -0.8719436622368019, 0.13200014240407773, -0.09347490183172084, -0.7214689987890914, 0.9244811780644272, -0.6387915291324208, -0.511518033064976, -1.0890428101843512, -0.8368825185221886, -0.34786351886881195, -1.0136612349555443, -0.6059397205704169, -0.8788378682276571, -0.2415806473503014, -0.896985116637821, -0.4282804240234777, -0.9482845630096156, 0.03678595484314358, -0.12278644970325352, -0.4908133291712992, -0.5794143931485022, 0.46340066759503373, -0.31561769093014186, 0.37915451448635745, -0.7602918956303854, -0.4986216910456981, -1.0714456496976181, -1.0273333913350964, -0.18701729487232407, -0.5850017272246809, -1.4179729008615891, -0.5636831706681844, -0.5906870621723211, -0.42714790020239557, -0.970092316033262, -0.264584875438275, -1.2275820709869096, -1.3631845890165202, -1.245948791793354, -1.4386512505417375, -0.549404946908107, -1.7559517778333018, -0.04484548561410435, -0.8669567367782801, -0.8593865578557605, -0.4122060564233311, -1.4313389024326317, -1.045376709225618, -0.5882214045467484, 0.5563790544941855, -0.7489224114615969, -1.7906489444483118, -0.8782751820484244, 0.5117610553137955, -0.33261283732591895, -1.5402390977375724, -1.8092367969731806, -0.22082190332298363, -1.43742700124698, -1.0114009527973091, -0.2646696528468269, -1.5664033674895148, -0.8812718050564816, -0.22788288177575608, -0.03722557911280756, -1.2867131086695731, -0.5260667739031676, -1.6222509850273732, -1.507665564736423, -1.4743010218135628, -1.0698409601181944, -1.5004795460183962, -0.6004090285180834, -0.1786100768181388, -0.8101510820484695, 0.8414985561625218, -0.5342108323882808, -0.4929483253051695, -1.4770431318517383, -1.0171823485124043, -1.210157195412129, -0.43544020375615183, -1.2562829794739707, -0.319929637736138, -1.0629217982636578, -1.0768726262036588, -1.1763472849455756, -0.8625093984718423, -1.5967505169183098, -0.6895845020958521, -1.1222303172353234, -0.9415877411795835, -0.27858121926837737, -2.0658635300808665, -1.256122417056118, -1.7580267114129124, -2.038541697469749, -1.129418601244471, -0.48949799042698666, -1.3604656817944372, -1.2032390880507948, -1.2004526042585983, -1.341203055087239, -1.3282707263307367, -1.7351165423260746, -1.5336396547293363, -1.106091627261372, -1.6603808421545567, -1.5585210213792997, -1.6225848101555822, -1.1997344796445122, -2.4416387013209824, -1.792176203052813, -0.935138779791098, -1.8576205452561458, -1.030507428354874, -2.1984933652233107, -0.9732776799042424, -1.9788310986717672, -1.5910019198200944, -1.1922052256054496, -1.648993549396834, -1.9365297201039668, -1.4036666012715409, -0.29053289233605967, -0.25733759440091475, -1.3412825914667945, -1.828956493718396, -1.4066110354853498, -1.3779113496045061, -2.5406044692329965, -1.8952354689624993, -1.0817694539654106, -2.8283300714813953, -1.3139828150759203, -2.154513008218455, -1.1366011820763187, -1.510518146670105, -2.0208225978093517, -3.5018376141652694, -2.027085831006971, -1.9377984941694928], \"y\": [-1.8785389216264898, -1.5902982463762414, -0.5906128744764068, -1.7196676974315555, 0.5499529988963558, -0.6594573953026597, 1.204911762061882, 1.3057520405766618, 1.7961625213883547, -1.4592135807335196, 1.5646803667269196, 1.563751896312341, 1.140315574420105, -0.5939894692262477, 0.038673287343822034, 0.21877066239786433, -1.3965152420651539, -0.8369996972214072, 1.5765799894116903, -0.6028471137515611, 0.11033344234643694, 0.28741225170236456, -1.5431554523421596, -0.4145957681586501, -0.13682997464363597, 1.0866040306652032, 0.049085694163508144, -1.0214197307753723, -1.8401703166899523, -0.8680536723266271, -0.6062500056849865, -1.7118440909735853, -2.0716200770527893, -1.8093909488875106, 0.2291228357469712, 0.012373225420955666, 2.2271462362949315, 2.9945949277606405, -1.5709462384797825, 0.5706801114626507, -0.004708708862864438, 1.9003525656493365, 0.43374659186402165, 1.8991239294704765, 0.4056948148140739, -0.8696092622880733, -1.094780410021305, -2.693654224052168, -2.1887680012477406, -2.6511414808842897, 0.5022654376574819, -2.109974511268356, -1.1943750405463562, -1.3416981390097955, -1.3387769716977953, -2.2344090168470236, 1.50662804442314, -0.4740945945665047, 0.675782833379353, -0.4987494002115645, -1.0465102310759136, 0.7229495688854318, 2.709370577854976, 0.6168311448642381, -2.0889537317052014, 0.390832311363541, -1.0407505557058394, 0.6709115867300615, -1.2452108299709566, -0.9825511064478902, -1.7373047381390396, 1.9565689966310464, 2.0667619554400676, 0.47966354069870093, 0.6858148334577351, -0.8544843602730434, 1.3543125250488628, 1.6886426889374175, -1.5356596700815184, -0.12183943409346003, -1.1597018006578428, 2.1316397275010326, -0.010376224086662923, 0.4651098306973797, -0.4115365780532592, 1.4709935776935004, 1.029062665970046, 1.517366068458489, -1.1495747821224516, -0.9430651055686021, 0.9188828815663744, 2.444650632091334, 0.3784946556709912, 0.5888599776671265, 0.8622550365922408, 0.7078231070022531, 2.282245719562239, -1.2432829855268945, -0.9834171830697525, 1.8983943523757023, 0.3598335931557048, -2.093097831163033, -1.1936119617640581, 0.12630744652935316, -1.6782855051381158, -0.3231345111843394, 1.0365432550504114, -1.4745457987590265, -0.4202291877025761, -1.65176096487212, 1.856805751127005, 0.6118267088195425, -0.8491228916978145, -0.20457652109000324, 1.6631658021739455, 1.2227143028529113, -1.9086382174557195, -1.1098257363874289, 0.785006424187087, -1.352731819755478, -1.2632268025718774, 1.116255814644375, 1.1739523543280406, 1.270108414724325, -0.2713340272009011, 0.46141601348559513, -1.2891419368021837, -0.1347346015326097, -1.601061847164993, 1.647948059575798, 1.2672386038332057, 1.3384268630908007, 0.18073026628119312, -1.35531121008171, 1.7628391448166485, 0.4374882738483478, -0.3253521886180219, -0.2935744924350944, 2.0797027690463588, 0.3003263512614876, 1.3746465441802518, 1.253111658036889, -0.8089925157264565, -0.13800350526650432, 1.0680076795626328, -1.5524543258253367, 1.2309051225449115, -1.9661323715318255, 1.6397461729084826, 2.030282885249959, -1.421064899338535, 0.30781887089360904, -0.4040568205014139, 0.9942712222028006, 2.007094599315068, -0.9608564417789726, -0.5867509150579302, -0.9313343833797507, 0.1832532541377892, -1.4422927744048577, -0.6903709710839707, 0.38762786346384326, -0.6048271405071173, -0.2641735744734512, 0.029447508948896743, 1.651358960329454, 0.7892291020243123, -0.9968501706688223, -2.0199024325137405, 0.4336820525095794, 1.333132045938695, -0.16743456268580115, -1.0098421096524446, 0.5461212519650588, 1.2811477585546616, -0.8800365599356149, -0.40622578190401754, 0.8417784319817325, 1.2205057504800496, -1.098483103589586, -0.5331556209384968, 0.6166868798280492, -1.1601599949318002, -1.3189478628994968, 0.7073134042796767, 2.2483237317845104, 2.2287544239143418, 2.2309947792516778, 0.12938732360158328, -0.4235092556079295, 0.7795513329129532, -1.624236523936326, -0.8927993145952126, -1.34388067983918, -1.2258890409089194, 1.0380466865663802, 1.2507372626431845, 1.0797937482732418, 1.0358679660502137, -0.1794440332384134, -1.7588989763532665, 2.606896457735442, 1.6816703482245345], \"z\": [0.6132832454112599, 0.8435740749985519, -0.2013261676825911, -0.759865685892778, -1.711629747419845, 0.41841264350914986, 1.5312184114304972, 1.4286045436803205, 0.6736631099018676, 0.838025706091844, 0.4930090562173888, -0.20940459386171165, 0.3800202921919522, 2.259776808428636, -0.7939640434045967, 0.8044096761937153, 0.7657441136590025, 0.16070700331939108, 1.174248506664418, 1.9361155500014884, 0.6676434853547477, 0.5490249892857217, 1.6923414921119848, -0.2887744337857557, 1.5298417802828954, 0.29064820592100243, -1.0259899758557136, 0.0329695185022878, -0.02126473600020971, 2.462010438678247, -0.3107177399275452, 1.5210241928755652, -0.3200229569865819, 0.1415922879882597, 0.853428368127576, 1.261672699690502, 1.3021437366221527, -1.29590919190715, 1.3405975698236832, 0.11982143529012358, -0.9685939701511457, 0.1278163810964695, -0.5510143749968983, 0.2623809351039561, -1.6060193298592693, -0.7524189006823268, 0.7071404654107589, 0.8568946787136003, 1.85593357177546, 1.3924105065887513, 2.1710181953949896, 0.29493967884820077, -0.6295558964524994, 1.4657298171328892, 0.18611061359436457, 0.32637701397887525, 0.8135088557646062, 0.18595861404187827, 1.9760752129704247, -1.0801004736014703, -0.11366804585812794, 2.729316070677667, -0.13473311144918032, 0.5552922056337753, 0.6077305356310431, -0.33207754510673126, -1.1509187490702477, -0.1449526598746928, 0.22680565132758518, -2.1503897011396917, 1.5400856346752978, 0.4803621695028993, 0.0905873667768229, 0.6415789633829763, -0.11025082244503816, 0.8649336716107514, 0.8579762046959166, -1.1498812638632867, 0.918431164536091, -0.30167565467215157, 0.05548418807067343, -0.22704739080477745, 1.4033597819464585, 2.1230350605059773, 1.2659334779159144, 0.965198690612668, 1.213883240303145, 0.8170305559485731, -0.851619081706727, -0.05354174501033905, -0.29071435537390017, -0.4106059108859207, 3.5624801303849094, 0.09379925391745791, 0.2494910740826318, 2.0613882408195794, 0.4232924385325147, 0.9201851752275009, 1.4819762089026576, 0.6284605264149723, -1.8001830512763473, 0.06161709063378602, 0.23765862148066733, -0.8467883066527743, 1.0718442576049139, -1.0272113292052725, 0.8688894095337114, -1.1644128955137243, -0.23775469319295905, -1.3075232937715922, -3.131614566770403, 0.6520050708280282, -0.15402967727922318, 1.774116661161035, 0.34923523823515223, 1.7911894508050807, -0.6674164356523834, 0.3241254642043849, 0.7263498107496189, -0.6601829208959749, -1.9164259221130115, -0.4388109887337068, 1.80456347709322, 1.4264294860590512, 0.9553242879180053, 0.4303564616502047, 1.02744484413759, -0.6268794720036989, -0.7115348307973997, 1.881911773850177, 0.679791949891934, -1.1110902468039427, -1.4587967080090392, -1.2733469969363482, 0.1769743583562508, 0.4891490588796377, -1.5033362867657465, -0.6744057537259703, 0.4469553062788157, 0.004194818992961756, 0.704298090223723, 1.016683480064121, 2.0265975060851638, 2.4704521965179134, -0.42572798623875735, -0.561425442585553, 1.1996471191337634, -0.36012161016916633, -0.7503872751893729, -0.25813222378434586, 1.4206125560285963, -1.4909749130647425, -0.21024596318858835, -0.5859469171365025, 0.15026919730221341, -1.960810103298772, -0.8336215636327801, -0.9032531118137503, 0.08286521874835089, -0.9167962109375586, 1.8288961868688576, 0.6750953675880789, -0.04467759597293733, -0.21256280712502945, -1.2673577056894607, 0.53341155410325, 0.0858377501362727, -0.05428969310967071, 0.7486515872545924, -0.5549403855095841, 0.9065693133807274, -0.09089421726341801, -1.456872023264408, -2.155365930108395, -1.5040771370047306, -1.7610904561615377, -0.49675423666971935, -0.08363982510412314, -0.06948167622727211, -0.3986368909649231, 0.19847599473649674, -0.3486892341490086, -1.454658806011726, -1.5003742595175533, -1.2675527675910165, 0.5350025928457661, -1.3889731959693465, 0.23311428233138956, 0.8136945240265643, -0.5910237986873103, 0.08565240506566595, -1.750749024276624, -0.8995869180283724, 1.7476972613530026, -0.7614660360024249, 0.03924191029780051, -0.44153890671697366, 0.1000763540672875, 0.7431735330099025, -0.7953228950995892, -1.5355935273750208, -0.38222894824267606, 0.14730456811068982]}],\n",
       "                        {\"legend\": {\"title\": {\"text\": \"DEATH_EVENT\"}, \"tracegroupgap\": 0}, \"margin\": {\"t\": 60}, \"scene\": {\"domain\": {\"x\": [0.0, 1.0], \"y\": [0.0, 1.0]}, \"xaxis\": {\"title\": {\"text\": \"PCA1\"}}, \"yaxis\": {\"title\": {\"text\": \"PCA2\"}}, \"zaxis\": {\"title\": {\"text\": \"PCA3\"}}}, \"template\": {\"data\": {\"bar\": [{\"error_x\": {\"color\": \"#2a3f5f\"}, \"error_y\": {\"color\": \"#2a3f5f\"}, \"marker\": {\"line\": {\"color\": \"#E5ECF6\", \"width\": 0.5}}, \"type\": \"bar\"}], \"barpolar\": [{\"marker\": {\"line\": {\"color\": \"#E5ECF6\", \"width\": 0.5}}, \"type\": \"barpolar\"}], \"carpet\": [{\"aaxis\": {\"endlinecolor\": \"#2a3f5f\", \"gridcolor\": \"white\", \"linecolor\": \"white\", \"minorgridcolor\": \"white\", \"startlinecolor\": \"#2a3f5f\"}, \"baxis\": {\"endlinecolor\": \"#2a3f5f\", \"gridcolor\": \"white\", \"linecolor\": \"white\", \"minorgridcolor\": \"white\", \"startlinecolor\": \"#2a3f5f\"}, \"type\": \"carpet\"}], \"choropleth\": [{\"colorbar\": {\"outlinewidth\": 0, \"ticks\": \"\"}, \"type\": \"choropleth\"}], \"contour\": [{\"colorbar\": {\"outlinewidth\": 0, \"ticks\": \"\"}, \"colorscale\": [[0.0, \"#0d0887\"], [0.1111111111111111, \"#46039f\"], [0.2222222222222222, \"#7201a8\"], [0.3333333333333333, \"#9c179e\"], [0.4444444444444444, \"#bd3786\"], [0.5555555555555556, \"#d8576b\"], [0.6666666666666666, \"#ed7953\"], [0.7777777777777778, \"#fb9f3a\"], [0.8888888888888888, \"#fdca26\"], [1.0, \"#f0f921\"]], \"type\": \"contour\"}], \"contourcarpet\": [{\"colorbar\": {\"outlinewidth\": 0, \"ticks\": \"\"}, \"type\": \"contourcarpet\"}], \"heatmap\": [{\"colorbar\": {\"outlinewidth\": 0, \"ticks\": \"\"}, \"colorscale\": [[0.0, \"#0d0887\"], [0.1111111111111111, \"#46039f\"], [0.2222222222222222, \"#7201a8\"], [0.3333333333333333, \"#9c179e\"], [0.4444444444444444, \"#bd3786\"], [0.5555555555555556, \"#d8576b\"], [0.6666666666666666, \"#ed7953\"], [0.7777777777777778, \"#fb9f3a\"], [0.8888888888888888, \"#fdca26\"], [1.0, \"#f0f921\"]], \"type\": \"heatmap\"}], \"heatmapgl\": [{\"colorbar\": {\"outlinewidth\": 0, \"ticks\": \"\"}, \"colorscale\": [[0.0, \"#0d0887\"], [0.1111111111111111, \"#46039f\"], [0.2222222222222222, \"#7201a8\"], [0.3333333333333333, \"#9c179e\"], [0.4444444444444444, \"#bd3786\"], [0.5555555555555556, \"#d8576b\"], [0.6666666666666666, \"#ed7953\"], [0.7777777777777778, \"#fb9f3a\"], [0.8888888888888888, \"#fdca26\"], [1.0, \"#f0f921\"]], \"type\": \"heatmapgl\"}], \"histogram\": [{\"marker\": {\"colorbar\": {\"outlinewidth\": 0, \"ticks\": \"\"}}, \"type\": \"histogram\"}], \"histogram2d\": [{\"colorbar\": {\"outlinewidth\": 0, \"ticks\": \"\"}, \"colorscale\": [[0.0, \"#0d0887\"], [0.1111111111111111, \"#46039f\"], [0.2222222222222222, \"#7201a8\"], [0.3333333333333333, \"#9c179e\"], [0.4444444444444444, \"#bd3786\"], [0.5555555555555556, \"#d8576b\"], [0.6666666666666666, \"#ed7953\"], [0.7777777777777778, \"#fb9f3a\"], [0.8888888888888888, \"#fdca26\"], [1.0, \"#f0f921\"]], \"type\": \"histogram2d\"}], \"histogram2dcontour\": [{\"colorbar\": {\"outlinewidth\": 0, \"ticks\": \"\"}, \"colorscale\": [[0.0, \"#0d0887\"], [0.1111111111111111, \"#46039f\"], [0.2222222222222222, \"#7201a8\"], [0.3333333333333333, \"#9c179e\"], [0.4444444444444444, \"#bd3786\"], [0.5555555555555556, \"#d8576b\"], [0.6666666666666666, \"#ed7953\"], [0.7777777777777778, \"#fb9f3a\"], [0.8888888888888888, \"#fdca26\"], [1.0, \"#f0f921\"]], \"type\": \"histogram2dcontour\"}], \"mesh3d\": [{\"colorbar\": {\"outlinewidth\": 0, \"ticks\": \"\"}, \"type\": \"mesh3d\"}], \"parcoords\": [{\"line\": {\"colorbar\": {\"outlinewidth\": 0, \"ticks\": \"\"}}, \"type\": \"parcoords\"}], \"pie\": [{\"automargin\": true, \"type\": \"pie\"}], \"scatter\": [{\"marker\": {\"colorbar\": {\"outlinewidth\": 0, \"ticks\": \"\"}}, \"type\": \"scatter\"}], \"scatter3d\": [{\"line\": {\"colorbar\": {\"outlinewidth\": 0, \"ticks\": \"\"}}, \"marker\": {\"colorbar\": {\"outlinewidth\": 0, \"ticks\": \"\"}}, \"type\": \"scatter3d\"}], \"scattercarpet\": [{\"marker\": {\"colorbar\": {\"outlinewidth\": 0, \"ticks\": \"\"}}, \"type\": \"scattercarpet\"}], \"scattergeo\": [{\"marker\": {\"colorbar\": {\"outlinewidth\": 0, \"ticks\": \"\"}}, \"type\": \"scattergeo\"}], \"scattergl\": [{\"marker\": {\"colorbar\": {\"outlinewidth\": 0, \"ticks\": \"\"}}, \"type\": \"scattergl\"}], \"scattermapbox\": [{\"marker\": {\"colorbar\": {\"outlinewidth\": 0, \"ticks\": \"\"}}, \"type\": \"scattermapbox\"}], \"scatterpolar\": [{\"marker\": {\"colorbar\": {\"outlinewidth\": 0, \"ticks\": \"\"}}, \"type\": \"scatterpolar\"}], \"scatterpolargl\": [{\"marker\": {\"colorbar\": {\"outlinewidth\": 0, \"ticks\": \"\"}}, \"type\": \"scatterpolargl\"}], \"scatterternary\": [{\"marker\": {\"colorbar\": {\"outlinewidth\": 0, \"ticks\": \"\"}}, \"type\": \"scatterternary\"}], \"surface\": [{\"colorbar\": {\"outlinewidth\": 0, \"ticks\": \"\"}, \"colorscale\": [[0.0, \"#0d0887\"], [0.1111111111111111, \"#46039f\"], [0.2222222222222222, \"#7201a8\"], [0.3333333333333333, \"#9c179e\"], [0.4444444444444444, \"#bd3786\"], [0.5555555555555556, \"#d8576b\"], [0.6666666666666666, \"#ed7953\"], [0.7777777777777778, \"#fb9f3a\"], [0.8888888888888888, \"#fdca26\"], [1.0, \"#f0f921\"]], \"type\": \"surface\"}], \"table\": [{\"cells\": {\"fill\": {\"color\": \"#EBF0F8\"}, \"line\": {\"color\": \"white\"}}, \"header\": {\"fill\": {\"color\": \"#C8D4E3\"}, \"line\": {\"color\": \"white\"}}, \"type\": \"table\"}]}, \"layout\": {\"annotationdefaults\": {\"arrowcolor\": \"#2a3f5f\", \"arrowhead\": 0, \"arrowwidth\": 1}, \"coloraxis\": {\"colorbar\": {\"outlinewidth\": 0, \"ticks\": \"\"}}, \"colorscale\": {\"diverging\": [[0, \"#8e0152\"], [0.1, \"#c51b7d\"], [0.2, \"#de77ae\"], [0.3, \"#f1b6da\"], [0.4, \"#fde0ef\"], [0.5, \"#f7f7f7\"], [0.6, \"#e6f5d0\"], [0.7, \"#b8e186\"], [0.8, \"#7fbc41\"], [0.9, \"#4d9221\"], [1, \"#276419\"]], \"sequential\": [[0.0, \"#0d0887\"], [0.1111111111111111, \"#46039f\"], [0.2222222222222222, \"#7201a8\"], [0.3333333333333333, \"#9c179e\"], [0.4444444444444444, \"#bd3786\"], [0.5555555555555556, \"#d8576b\"], [0.6666666666666666, \"#ed7953\"], [0.7777777777777778, \"#fb9f3a\"], [0.8888888888888888, \"#fdca26\"], [1.0, \"#f0f921\"]], \"sequentialminus\": [[0.0, \"#0d0887\"], [0.1111111111111111, \"#46039f\"], [0.2222222222222222, \"#7201a8\"], [0.3333333333333333, \"#9c179e\"], [0.4444444444444444, \"#bd3786\"], [0.5555555555555556, \"#d8576b\"], [0.6666666666666666, \"#ed7953\"], [0.7777777777777778, \"#fb9f3a\"], [0.8888888888888888, \"#fdca26\"], [1.0, \"#f0f921\"]]}, \"colorway\": [\"#636efa\", \"#EF553B\", \"#00cc96\", \"#ab63fa\", \"#FFA15A\", \"#19d3f3\", \"#FF6692\", \"#B6E880\", \"#FF97FF\", \"#FECB52\"], \"font\": {\"color\": \"#2a3f5f\"}, \"geo\": {\"bgcolor\": \"white\", \"lakecolor\": \"white\", \"landcolor\": \"#E5ECF6\", \"showlakes\": true, \"showland\": true, \"subunitcolor\": \"white\"}, \"hoverlabel\": {\"align\": \"left\"}, \"hovermode\": \"closest\", \"mapbox\": {\"style\": \"light\"}, \"paper_bgcolor\": \"white\", \"plot_bgcolor\": \"#E5ECF6\", \"polar\": {\"angularaxis\": {\"gridcolor\": \"white\", \"linecolor\": \"white\", \"ticks\": \"\"}, \"bgcolor\": \"#E5ECF6\", \"radialaxis\": {\"gridcolor\": \"white\", \"linecolor\": \"white\", \"ticks\": \"\"}}, \"scene\": {\"xaxis\": {\"backgroundcolor\": \"#E5ECF6\", \"gridcolor\": \"white\", \"gridwidth\": 2, \"linecolor\": \"white\", \"showbackground\": true, \"ticks\": \"\", \"zerolinecolor\": \"white\"}, \"yaxis\": {\"backgroundcolor\": \"#E5ECF6\", \"gridcolor\": \"white\", \"gridwidth\": 2, \"linecolor\": \"white\", \"showbackground\": true, \"ticks\": \"\", \"zerolinecolor\": \"white\"}, \"zaxis\": {\"backgroundcolor\": \"#E5ECF6\", \"gridcolor\": \"white\", \"gridwidth\": 2, \"linecolor\": \"white\", \"showbackground\": true, \"ticks\": \"\", \"zerolinecolor\": \"white\"}}, \"shapedefaults\": {\"line\": {\"color\": \"#2a3f5f\"}}, \"ternary\": {\"aaxis\": {\"gridcolor\": \"white\", \"linecolor\": \"white\", \"ticks\": \"\"}, \"baxis\": {\"gridcolor\": \"white\", \"linecolor\": \"white\", \"ticks\": \"\"}, \"bgcolor\": \"#E5ECF6\", \"caxis\": {\"gridcolor\": \"white\", \"linecolor\": \"white\", \"ticks\": \"\"}}, \"title\": {\"x\": 0.05}, \"xaxis\": {\"automargin\": true, \"gridcolor\": \"white\", \"linecolor\": \"white\", \"ticks\": \"\", \"title\": {\"standoff\": 15}, \"zerolinecolor\": \"white\", \"zerolinewidth\": 2}, \"yaxis\": {\"automargin\": true, \"gridcolor\": \"white\", \"linecolor\": \"white\", \"ticks\": \"\", \"title\": {\"standoff\": 15}, \"zerolinecolor\": \"white\", \"zerolinewidth\": 2}}}},\n",
       "                        {\"responsive\": true}\n",
       "                    ).then(function(){\n",
       "                            \n",
       "var gd = document.getElementById('862dfdcc-0db2-4764-a326-439489ecff16');\n",
       "var x = new MutationObserver(function (mutations, observer) {{\n",
       "        var display = window.getComputedStyle(gd).display;\n",
       "        if (!display || display === 'none') {{\n",
       "            console.log([gd, 'removed!']);\n",
       "            Plotly.purge(gd);\n",
       "            observer.disconnect();\n",
       "        }}\n",
       "}});\n",
       "\n",
       "// Listen for the removal of the full notebook cells\n",
       "var notebookContainer = gd.closest('#notebook-container');\n",
       "if (notebookContainer) {{\n",
       "    x.observe(notebookContainer, {childList: true});\n",
       "}}\n",
       "\n",
       "// Listen for the clearing of the current output cell\n",
       "var outputEl = gd.closest('.output');\n",
       "if (outputEl) {{\n",
       "    x.observe(outputEl, {childList: true});\n",
       "}}\n",
       "\n",
       "                        })\n",
       "                };\n",
       "                });\n",
       "            </script>\n",
       "        </div>"
      ]
     },
     "metadata": {},
     "output_type": "display_data"
    }
   ],
   "source": [
    "fig = px.scatter_3d(res, x='PCA1', y='PCA2', z='PCA3', color='DEATH_EVENT')\n",
    "fig.show()"
   ]
  },
  {
   "cell_type": "markdown",
   "metadata": {},
   "source": [
    "It seems there is some plane that separates dead from alive people"
   ]
  },
  {
   "cell_type": "code",
   "execution_count": null,
   "metadata": {},
   "outputs": [],
   "source": []
  }
 ],
 "metadata": {
  "kernelspec": {
   "display_name": "Python 3",
   "language": "python",
   "name": "python3"
  },
  "language_info": {
   "codemirror_mode": {
    "name": "ipython",
    "version": 3
   },
   "file_extension": ".py",
   "mimetype": "text/x-python",
   "name": "python",
   "nbconvert_exporter": "python",
   "pygments_lexer": "ipython3",
   "version": "3.7.7"
  }
 },
 "nbformat": 4,
 "nbformat_minor": 4
}
